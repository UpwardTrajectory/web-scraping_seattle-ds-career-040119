{
 "cells": [
  {
   "cell_type": "code",
   "execution_count": 1,
   "metadata": {},
   "outputs": [],
   "source": [
    "%load_ext autoreload\n",
    "%autoreload 2"
   ]
  },
  {
   "cell_type": "code",
   "execution_count": 2,
   "metadata": {},
   "outputs": [],
   "source": [
    "import requests\n",
    "import random\n",
    "import time\n",
    "import pandas as pd\n",
    "import os\n",
    "from selenium.webdriver import Firefox, Chrome\n",
    "import scrape_functions as sf\n",
    "import sqlite3\n"
   ]
  },
  {
   "cell_type": "code",
   "execution_count": 3,
   "metadata": {},
   "outputs": [
    {
     "data": {
      "text/plain": [
       "<sqlite3.Cursor at 0x11550a570>"
      ]
     },
     "execution_count": 3,
     "metadata": {},
     "output_type": "execute_result"
    }
   ],
   "source": [
    "conn = sqlite3.connect('fort_500.db')\n",
    "c = conn.cursor()\n",
    "c.execute('''CREATE TABLE companies (name, ratings)''')"
   ]
  },
  {
   "cell_type": "code",
   "execution_count": 4,
   "metadata": {},
   "outputs": [],
   "source": [
    "# uncomment and run the next line if you get an error\n",
    "#!pip install lxml"
   ]
  },
  {
   "cell_type": "code",
   "execution_count": 5,
   "metadata": {},
   "outputs": [],
   "source": [
    "fort_500_df = pd.read_html('https://en.wikipedia.org/wiki/List_of_S%26P_500_companies')[0]\n",
    "fort_500_names_list = list(fort_500_df['Security'])"
   ]
  },
  {
   "cell_type": "code",
   "execution_count": 7,
   "metadata": {},
   "outputs": [
    {
     "name": "stdout",
     "output_type": "stream",
     "text": [
      "['Centene Corporation', '3.1', '51%', '67%']\n",
      "['CenterPoint Energy', '3.8', '79%', '92%']\n",
      "['CenturyLink Inc', '2.9', '42%', '42%']\n",
      "Message: no such element: Unable to locate element: {\"method\":\"css selector\",\"selector\":\"a.tightAll.h2\"}\n",
      "  (Session info: chrome=74.0.3729.108)\n",
      "  (Driver info: chromedriver=74.0.3729.6 (255758eccf3d244491b8a1317aa76e1ce10d57e9-refs/branch-heads/3729@{#29}),platform=Mac OS X 10.14.4 x86_64)\n",
      "\n",
      "error with  Cerner\n",
      "['CF Industries Holdings Inc', '3.9', '75%', '75%']\n",
      "['Charles Schwab Corporation', '3.6', '68%', '90%']\n",
      "Message: no such element: Unable to locate element: {\"method\":\"css selector\",\"selector\":\"a.tightAll.h2\"}\n",
      "  (Session info: chrome=74.0.3729.108)\n",
      "  (Driver info: chromedriver=74.0.3729.6 (255758eccf3d244491b8a1317aa76e1ce10d57e9-refs/branch-heads/3729@{#29}),platform=Mac OS X 10.14.4 x86_64)\n",
      "\n",
      "error with  Charter Communications\n",
      "['Chevron Corp.', '4.0', '79%', '95%']\n",
      "['Chipotle Mexican Grill', '3.4', '58%', '70%']\n",
      "Message: no such element: Unable to locate element: {\"method\":\"css selector\",\"selector\":\"div#EmpStats_Approve svg text\"}\n",
      "  (Session info: chrome=74.0.3729.108)\n",
      "  (Driver info: chromedriver=74.0.3729.6 (255758eccf3d244491b8a1317aa76e1ce10d57e9-refs/branch-heads/3729@{#29}),platform=Mac OS X 10.14.4 x86_64)\n",
      "\n",
      "error with  Chubb Limited\n",
      "Message: no such element: Unable to locate element: {\"method\":\"css selector\",\"selector\":\"a.tightAll.h2\"}\n",
      "  (Session info: chrome=74.0.3729.108)\n",
      "  (Driver info: chromedriver=74.0.3729.6 (255758eccf3d244491b8a1317aa76e1ce10d57e9-refs/branch-heads/3729@{#29}),platform=Mac OS X 10.14.4 x86_64)\n",
      "\n",
      "error with  Church & Dwight\n",
      "Message: no such element: Unable to locate element: {\"method\":\"css selector\",\"selector\":\"a.tightAll.h2\"}\n",
      "  (Session info: chrome=74.0.3729.108)\n",
      "  (Driver info: chromedriver=74.0.3729.6 (255758eccf3d244491b8a1317aa76e1ce10d57e9-refs/branch-heads/3729@{#29}),platform=Mac OS X 10.14.4 x86_64)\n",
      "\n",
      "error with  CIGNA Corp.\n",
      "Message: no such element: Unable to locate element: {\"method\":\"css selector\",\"selector\":\"a.tightAll.h2\"}\n",
      "  (Session info: chrome=74.0.3729.108)\n",
      "  (Driver info: chromedriver=74.0.3729.6 (255758eccf3d244491b8a1317aa76e1ce10d57e9-refs/branch-heads/3729@{#29}),platform=Mac OS X 10.14.4 x86_64)\n",
      "\n",
      "error with  Cimarex Energy\n",
      "['Cincinnati Financial', '3.1', '51%', '70%']\n",
      "['Cintas Corporation', '3.5', '64%', '82%']\n"
     ]
    },
    {
     "data": {
      "text/html": [
       "<div>\n",
       "<style scoped>\n",
       "    .dataframe tbody tr th:only-of-type {\n",
       "        vertical-align: middle;\n",
       "    }\n",
       "\n",
       "    .dataframe tbody tr th {\n",
       "        vertical-align: top;\n",
       "    }\n",
       "\n",
       "    .dataframe thead th {\n",
       "        text-align: right;\n",
       "    }\n",
       "</style>\n",
       "<table border=\"1\" class=\"dataframe\">\n",
       "  <thead>\n",
       "    <tr style=\"text-align: right;\">\n",
       "      <th></th>\n",
       "      <th>Company</th>\n",
       "      <th>Rating</th>\n",
       "      <th>Employee Recommended</th>\n",
       "      <th>CEO Approval</th>\n",
       "    </tr>\n",
       "  </thead>\n",
       "  <tbody>\n",
       "    <tr>\n",
       "      <th>0</th>\n",
       "      <td>Centene Corporation</td>\n",
       "      <td>3.1</td>\n",
       "      <td>51%</td>\n",
       "      <td>67%</td>\n",
       "    </tr>\n",
       "    <tr>\n",
       "      <th>1</th>\n",
       "      <td>CenterPoint Energy</td>\n",
       "      <td>3.8</td>\n",
       "      <td>79%</td>\n",
       "      <td>92%</td>\n",
       "    </tr>\n",
       "    <tr>\n",
       "      <th>2</th>\n",
       "      <td>CenturyLink Inc</td>\n",
       "      <td>2.9</td>\n",
       "      <td>42%</td>\n",
       "      <td>42%</td>\n",
       "    </tr>\n",
       "    <tr>\n",
       "      <th>3</th>\n",
       "      <td>CF Industries Holdings Inc</td>\n",
       "      <td>3.9</td>\n",
       "      <td>75%</td>\n",
       "      <td>75%</td>\n",
       "    </tr>\n",
       "    <tr>\n",
       "      <th>4</th>\n",
       "      <td>Charles Schwab Corporation</td>\n",
       "      <td>3.6</td>\n",
       "      <td>68%</td>\n",
       "      <td>90%</td>\n",
       "    </tr>\n",
       "    <tr>\n",
       "      <th>5</th>\n",
       "      <td>Chevron Corp.</td>\n",
       "      <td>4.0</td>\n",
       "      <td>79%</td>\n",
       "      <td>95%</td>\n",
       "    </tr>\n",
       "    <tr>\n",
       "      <th>6</th>\n",
       "      <td>Chipotle Mexican Grill</td>\n",
       "      <td>3.4</td>\n",
       "      <td>58%</td>\n",
       "      <td>70%</td>\n",
       "    </tr>\n",
       "    <tr>\n",
       "      <th>7</th>\n",
       "      <td>Cincinnati Financial</td>\n",
       "      <td>3.1</td>\n",
       "      <td>51%</td>\n",
       "      <td>70%</td>\n",
       "    </tr>\n",
       "    <tr>\n",
       "      <th>8</th>\n",
       "      <td>Cintas Corporation</td>\n",
       "      <td>3.5</td>\n",
       "      <td>64%</td>\n",
       "      <td>82%</td>\n",
       "    </tr>\n",
       "  </tbody>\n",
       "</table>\n",
       "</div>"
      ],
      "text/plain": [
       "                      Company Rating Employee Recommended CEO Approval\n",
       "0         Centene Corporation    3.1                  51%          67%\n",
       "1          CenterPoint Energy    3.8                  79%          92%\n",
       "2             CenturyLink Inc    2.9                  42%          42%\n",
       "3  CF Industries Holdings Inc    3.9                  75%          75%\n",
       "4  Charles Schwab Corporation    3.6                  68%          90%\n",
       "5               Chevron Corp.    4.0                  79%          95%\n",
       "6      Chipotle Mexican Grill    3.4                  58%          70%\n",
       "7        Cincinnati Financial    3.1                  51%          70%\n",
       "8          Cintas Corporation    3.5                  64%          82%"
      ]
     },
     "execution_count": 7,
     "metadata": {},
     "output_type": "execute_result"
    }
   ],
   "source": [
    "sf.scrape_company_data(fort_500_names_list[100:115])"
   ]
  },
  {
   "cell_type": "code",
   "execution_count": null,
   "metadata": {},
   "outputs": [],
   "source": []
  }
 ],
 "metadata": {
  "kernelspec": {
   "display_name": "Python 3",
   "language": "python",
   "name": "python3"
  },
  "language_info": {
   "codemirror_mode": {
    "name": "ipython",
    "version": 3
   },
   "file_extension": ".py",
   "mimetype": "text/x-python",
   "name": "python",
   "nbconvert_exporter": "python",
   "pygments_lexer": "ipython3",
   "version": "3.7.3"
  }
 },
 "nbformat": 4,
 "nbformat_minor": 2
}
